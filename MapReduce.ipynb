{
 "cells": [
  {
   "cell_type": "markdown",
   "metadata": {},
   "source": [
    "## Import"
   ]
  },
  {
   "cell_type": "code",
   "execution_count": 362,
   "metadata": {},
   "outputs": [],
   "source": [
    "import pandas as pd\n",
    "import matplotlib.pyplot as plt\n",
    "import pandas as pd\n",
    "import matplotlib.pyplot as plt\n",
    "from selenium import webdriver\n",
    "from selenium.webdriver.common.keys import Keys\n",
    "from selenium.common.exceptions import StaleElementReferenceException, NoSuchElementException, NoSuchWindowException\n",
    "import time\n",
    "import os\n",
    "import glob"
   ]
  },
  {
   "cell_type": "markdown",
   "metadata": {},
   "source": [
    "## Download Data\n"
   ]
  },
  {
   "cell_type": "code",
   "execution_count": 363,
   "metadata": {},
   "outputs": [],
   "source": [
    "def download(year):\n",
    "    data_path= os.getcwd() + '/Data/'\n",
    "    #path of Driver\n",
    "    path_to_driver='/home/abhishek/Downloads/chromedriver_linux64/chromedriver'\n",
    "    print(data_path)\n",
    "    chrome_options = webdriver.ChromeOptions()\n",
    "    prefs = {'download.default_directory' : data_path}\n",
    "    chrome_options.add_experimental_option('prefs', prefs)\n",
    "    browser = webdriver.Chrome(path_to_driver,options=chrome_options)\n",
    "\n",
    "    browser.get('https://data.boston.gov/dataset/crime-incident-reports-august-2015-to-date-source-new-system')\n",
    "\n",
    "    #Auth\n",
    "    elementID=browser.find_element_by_id(\"dataset-resources\")\n",
    "\n",
    "    data = [i for i in elementID.find_elements_by_tag_name('li')]\n",
    "\n",
    "    for i in range(len(data)):\n",
    "        try:\n",
    "            if int(data[i].text.split('\\n')[0].split('-')[1].strip()) in year:\n",
    "                print(int(data[i].text.split('\\n')[0].split('-')[1].strip()))\n",
    "                x=data[i].find_element_by_class_name('btn-group')\n",
    "                link=x.find_elements_by_tag_name('a')[1].get_attribute('href')\n",
    "                print(link)\n",
    "                browser.get(link)\n",
    "                time.sleep(10)\n",
    "        except:\n",
    "            pass\n",
    "    return 'Download Completed'"
   ]
  },
  {
   "cell_type": "code",
   "execution_count": 364,
   "metadata": {},
   "outputs": [
    {
     "name": "stdout",
     "output_type": "stream",
     "text": [
      "Enter Year:2018 2019\n"
     ]
    }
   ],
   "source": [
    "#Enter the Years you want to Download\n",
    "year = list(map(int,input(\"Enter Year:\").split(' ')))"
   ]
  },
  {
   "cell_type": "code",
   "execution_count": null,
   "metadata": {},
   "outputs": [],
   "source": [
    "download(year)"
   ]
  },
  {
   "cell_type": "markdown",
   "metadata": {},
   "source": [
    "# Data Cleaning and Processing"
   ]
  },
  {
   "cell_type": "code",
   "execution_count": 174,
   "metadata": {},
   "outputs": [],
   "source": [
    "#This Function clean the Data\n",
    "def clean_df(i,df_path):\n",
    "    \n",
    "    #Read CSV\n",
    "    df_ = pd.read_csv(df_path)    \n",
    "    \n",
    "    #Dropping Columns\n",
    "    columns_to_drop = ['INCIDENT_NUMBER' ,'SHOOTING','OFFENSE_CODE_GROUP','OFFENSE_DESCRIPTION', 'OCCURRED_ON_DATE', 'YEAR',  'UCR_PART','Lat', 'Long', 'Location']\n",
    "    df = df_.drop(columns_to_drop,axis = 1)\n",
    "    \n",
    "    #Droping Null Values\n",
    "    nan_value = float(\"NaN\")\n",
    "    df.replace(\" \", nan_value, inplace=True)\n",
    "    \n",
    "    \n",
    "    df = df.dropna()\n",
    "    \n",
    "    #Change Month int to String\n",
    "    df['MONTH'] = pd.to_datetime(df['MONTH'], format='%m').dt.month_name().str.slice(stop=3)\n",
    "    \n",
    "\n",
    "    #Remove Spaces from String\n",
    "    #df.OFFENSE_CODE_GROUP = df.OFFENSE_CODE_GROUP.str.replace(' ','_')\n",
    "    df.STREET = df.STREET.str.replace(' ','_')\n",
    "    \n",
    "    \n",
    "    \n",
    "    # dropping duplicate values\n",
    "    df.drop_duplicates(keep='first',inplace=True)\n",
    "    \n",
    "    \n",
    "    #Adding prefix\n",
    "    \n",
    "    df.OFFENSE_CODE = 'of_' + df['OFFENSE_CODE'].astype(str)\n",
    "    df.REPORTING_AREA = 'ra_' + df['REPORTING_AREA'].astype(str)\n",
    "    df.HOUR = 'hr_' + df['HOUR'].astype(str)\n",
    "    df.DISTRICT = 'di_' + df['DISTRICT'].astype(str)\n",
    "    df.MONTH = 'm_' + df['MONTH'].astype(str)\n",
    "    df.DAY_OF_WEEK = 'dw_' + df['DAY_OF_WEEK'].astype(str)\n",
    "    df.STREET = 'st_' + df['STREET'].astype(str)\n",
    "    \n",
    "    #Saving the files\n",
    "    df.to_csv(f'./Clean_data/file{i}.txt',header=None, index=None, sep=' ')\n",
    "    \n",
    "    return df"
   ]
  },
  {
   "cell_type": "code",
   "execution_count": 175,
   "metadata": {},
   "outputs": [
    {
     "name": "stdout",
     "output_type": "stream",
     "text": [
      "0 ./Data/crime-incident-reports-2018.csv\n",
      "1 ./Data/script_113631134_20210423192813_combine.csv\n",
      "\n",
      "----Cleaning and Pre-processing Completed----\n"
     ]
    }
   ],
   "source": [
    "import glob\n",
    "df_paths =glob.glob('./Data/*')\n",
    "for i,path in enumerate(df_paths):\n",
    "    print(i,path)\n",
    "    df=clean_df(i,path)\n",
    "print('\\n----Cleaning and Pre-processing Completed----')"
   ]
  },
  {
   "cell_type": "code",
   "execution_count": 176,
   "metadata": {},
   "outputs": [
    {
     "data": {
      "text/html": [
       "<div>\n",
       "<style scoped>\n",
       "    .dataframe tbody tr th:only-of-type {\n",
       "        vertical-align: middle;\n",
       "    }\n",
       "\n",
       "    .dataframe tbody tr th {\n",
       "        vertical-align: top;\n",
       "    }\n",
       "\n",
       "    .dataframe thead th {\n",
       "        text-align: right;\n",
       "    }\n",
       "</style>\n",
       "<table border=\"1\" class=\"dataframe\">\n",
       "  <thead>\n",
       "    <tr style=\"text-align: right;\">\n",
       "      <th></th>\n",
       "      <th>OFFENSE_CODE</th>\n",
       "      <th>DISTRICT</th>\n",
       "      <th>REPORTING_AREA</th>\n",
       "      <th>MONTH</th>\n",
       "      <th>DAY_OF_WEEK</th>\n",
       "      <th>HOUR</th>\n",
       "      <th>STREET</th>\n",
       "    </tr>\n",
       "  </thead>\n",
       "  <tbody>\n",
       "    <tr>\n",
       "      <th>0</th>\n",
       "      <td>of_3125</td>\n",
       "      <td>di_A7</td>\n",
       "      <td>ra_465</td>\n",
       "      <td>m_Nov</td>\n",
       "      <td>dw_Friday</td>\n",
       "      <td>hr_20</td>\n",
       "      <td>st_HARBORSIDE_DR</td>\n",
       "    </tr>\n",
       "    <tr>\n",
       "      <th>1</th>\n",
       "      <td>of_1107</td>\n",
       "      <td>di_A1</td>\n",
       "      <td>ra_77</td>\n",
       "      <td>m_Dec</td>\n",
       "      <td>dw_Sunday</td>\n",
       "      <td>hr_0</td>\n",
       "      <td>st_NASSAU_ST</td>\n",
       "    </tr>\n",
       "    <tr>\n",
       "      <th>2</th>\n",
       "      <td>of_1107</td>\n",
       "      <td>di_C11</td>\n",
       "      <td>ra_355</td>\n",
       "      <td>m_Dec</td>\n",
       "      <td>dw_Tuesday</td>\n",
       "      <td>hr_0</td>\n",
       "      <td>st_LINDSEY_ST</td>\n",
       "    </tr>\n",
       "    <tr>\n",
       "      <th>4</th>\n",
       "      <td>of_1102</td>\n",
       "      <td>di_C11</td>\n",
       "      <td>ra_355</td>\n",
       "      <td>m_Oct</td>\n",
       "      <td>dw_Wednesday</td>\n",
       "      <td>hr_8</td>\n",
       "      <td>st_ADAMS_ST</td>\n",
       "    </tr>\n",
       "    <tr>\n",
       "      <th>5</th>\n",
       "      <td>of_735</td>\n",
       "      <td>di_External</td>\n",
       "      <td>ra_178</td>\n",
       "      <td>m_Oct</td>\n",
       "      <td>dw_Saturday</td>\n",
       "      <td>hr_0</td>\n",
       "      <td>st_METROPOLITAN_AVE</td>\n",
       "    </tr>\n",
       "  </tbody>\n",
       "</table>\n",
       "</div>"
      ],
      "text/plain": [
       "  OFFENSE_CODE     DISTRICT REPORTING_AREA  MONTH   DAY_OF_WEEK   HOUR  \\\n",
       "0      of_3125        di_A7         ra_465  m_Nov     dw_Friday  hr_20   \n",
       "1      of_1107        di_A1          ra_77  m_Dec     dw_Sunday   hr_0   \n",
       "2      of_1107       di_C11         ra_355  m_Dec    dw_Tuesday   hr_0   \n",
       "4      of_1102       di_C11         ra_355  m_Oct  dw_Wednesday   hr_8   \n",
       "5       of_735  di_External         ra_178  m_Oct   dw_Saturday   hr_0   \n",
       "\n",
       "                STREET  \n",
       "0     st_HARBORSIDE_DR  \n",
       "1         st_NASSAU_ST  \n",
       "2        st_LINDSEY_ST  \n",
       "4          st_ADAMS_ST  \n",
       "5  st_METROPOLITAN_AVE  "
      ]
     },
     "execution_count": 176,
     "metadata": {},
     "output_type": "execute_result"
    }
   ],
   "source": [
    "df.head()"
   ]
  },
  {
   "cell_type": "markdown",
   "metadata": {},
   "source": [
    "#### Start Hadoop"
   ]
  },
  {
   "cell_type": "code",
   "execution_count": 23,
   "metadata": {},
   "outputs": [
    {
     "name": "stdout",
     "output_type": "stream",
     "text": [
      "WARNING: Attempting to start all Apache Hadoop daemons as hduser in 10 seconds.\n",
      "WARNING: This is not a recommended production deployment configuration.\n",
      "WARNING: Use CTRL-C to abort.\n",
      "Starting namenodes on [localhost]\n",
      "Starting datanodes\n",
      "Starting secondary namenodes [abhishek]\n",
      "2021-06-29 20:19:21,123 WARN util.NativeCodeLoader: Unable to load native-hadoop library for your platform... using builtin-java classes where applicable\n",
      "Starting resourcemanager\n",
      "Starting nodemanagers\n"
     ]
    }
   ],
   "source": [
    "!/home/hduser/hadoop-3.2.2/sbin/start-all.sh"
   ]
  },
  {
   "cell_type": "markdown",
   "metadata": {},
   "source": [
    "### Copy to Data to hdfs"
   ]
  },
  {
   "cell_type": "code",
   "execution_count": 178,
   "metadata": {},
   "outputs": [
    {
     "name": "stdout",
     "output_type": "stream",
     "text": [
      "2021-06-29 22:36:09,650 WARN util.NativeCodeLoader: Unable to load native-hadoop library for your platform... using builtin-java classes where applicable\r\n"
     ]
    }
   ],
   "source": [
    "!/home/hduser/hadoop-3.2.2/bin/hdfs dfs -mkdir /Data"
   ]
  },
  {
   "cell_type": "code",
   "execution_count": 179,
   "metadata": {},
   "outputs": [
    {
     "name": "stdout",
     "output_type": "stream",
     "text": [
      "2021-06-29 22:36:12,785 WARN util.NativeCodeLoader: Unable to load native-hadoop library for your platform... using builtin-java classes where applicable\n",
      "Found 5 items\n",
      "drwxr-xr-x   - hduser supergroup          0 2021-06-29 22:36 /Data\n",
      "drwxr-xr-x   - hduser supergroup          0 2021-06-29 21:25 /aprior_3\n",
      "drwxr-xr-x   - hduser supergroup          0 2021-06-29 21:36 /apriori_model_1\n",
      "drwx------   - hduser supergroup          0 2021-06-29 20:30 /tmp\n",
      "drwxr-xr-x   - hduser supergroup          0 2021-06-29 20:30 /user\n"
     ]
    }
   ],
   "source": [
    "!/home/hduser/hadoop-3.2.2/bin/hdfs dfs -ls /"
   ]
  },
  {
   "cell_type": "code",
   "execution_count": 180,
   "metadata": {},
   "outputs": [
    {
     "name": "stdout",
     "output_type": "stream",
     "text": [
      "2021-06-29 22:36:16,923 WARN util.NativeCodeLoader: Unable to load native-hadoop library for your platform... using builtin-java classes where applicable\r\n"
     ]
    }
   ],
   "source": [
    "!/home/hduser/hadoop-3.2.2/bin/hdfs dfs -copyFromLocal /home/hduser/MapReduce/Clean_data/* /Data/"
   ]
  },
  {
   "cell_type": "code",
   "execution_count": 181,
   "metadata": {},
   "outputs": [
    {
     "name": "stdout",
     "output_type": "stream",
     "text": [
      "2021-06-29 22:36:18,844 WARN util.NativeCodeLoader: Unable to load native-hadoop library for your platform... using builtin-java classes where applicable\n",
      "Found 2 items\n",
      "-rw-r--r--   1 hduser supergroup    5368487 2021-06-29 22:36 /Data/file0.txt\n",
      "-rw-r--r--   1 hduser supergroup    1065911 2021-06-29 22:36 /Data/file1.txt\n"
     ]
    }
   ],
   "source": [
    "!/home/hduser/hadoop-3.2.2/bin/hdfs dfs -ls /Data/"
   ]
  },
  {
   "cell_type": "markdown",
   "metadata": {},
   "source": [
    "# MapReduce Count"
   ]
  },
  {
   "cell_type": "code",
   "execution_count": 182,
   "metadata": {},
   "outputs": [
    {
     "name": "stdout",
     "output_type": "stream",
     "text": [
      "Writing ./src/mapper.py\n"
     ]
    }
   ],
   "source": [
    "%%writefile ./src/mapper.py\n",
    "#!/usr/bin/python\n",
    "import sys\n",
    "\n",
    "# dicitionary with unique products as keys\n",
    "unique_product = {}\n",
    "\n",
    "\n",
    "# input comes from STDIN (standard input)\n",
    "for line in sys.stdin:\n",
    "    basket = line.split() # each line is a record \n",
    "    basket_size = len(basket) # its size is the number value\n",
    "    for product in basket:\n",
    "        # If new value is found, add to dictionary\n",
    "        if product not in unique_product.keys():\n",
    "            # Value for each key is a duple\n",
    "            unique_product[product] = [basket_size, 1]\n",
    "\n",
    "        else: # if already included\n",
    "\n",
    "            unique_product[product][0] = max(unique_product[product][0], \n",
    "                                             basket_size)\n",
    "            # Increment number \n",
    "            unique_product[product][1] += 1\n",
    "\n",
    "\n",
    "for product in unique_product.keys():\n",
    "    print '{0}\\t{1}'.format(product,'\\t'.join(map(str, \n",
    "                                                  unique_product[product])))"
   ]
  },
  {
   "cell_type": "code",
   "execution_count": 183,
   "metadata": {},
   "outputs": [
    {
     "name": "stdout",
     "output_type": "stream",
     "text": [
      "Writing ./src/reducer.py\n"
     ]
    }
   ],
   "source": [
    "%%writefile ./src/reducer.py\n",
    "#!/usr/bin/python\n",
    "import sys\n",
    "\n",
    "current_product = None\n",
    "largest_basket_size = 0\n",
    "sum_occurrences = 0\n",
    "num_unique_products = 0\n",
    "\n",
    "# input comes from STDIN (standard input)\n",
    "for line in sys.stdin: # each line corresponds to a product\n",
    "\n",
    "    product, basket_size, occurrences = line.split('\\t', 2)\n",
    "\n",
    "    if current_product == product:\n",
    "        sum_occurrences += int(occurrences) # though we don't need to report it\n",
    "        largest_basket_size = max(largest_basket_size, int(basket_size))\n",
    "\n",
    "    else:\n",
    "        num_unique_products += 1\n",
    "        current_product = product\n",
    "        sum_occurrences = int(occurrences) # though we don't need to report it\n",
    "        largest_basket_size = max(largest_basket_size, int(basket_size))\n"
   ]
  },
  {
   "cell_type": "code",
   "execution_count": 184,
   "metadata": {},
   "outputs": [
    {
     "name": "stdout",
     "output_type": "stream",
     "text": [
      "Writing ./src/combiner.py\n"
     ]
    }
   ],
   "source": [
    "%%writefile ./src/combiner.py\n",
    "#!/usr/bin/python\n",
    "import sys\n",
    "\n",
    "current_product = None\n",
    "largest_basket_size = 0\n",
    "sum_occurrences = 0\n",
    "\n",
    "# input comes from STDIN (standard input)\n",
    "for line in sys.stdin: # each line corresponds to a product\n",
    "\n",
    "\n",
    "    product, basket_size, occurrences = line.split('\\t', 2)\n",
    "\n",
    "    if current_product == product:\n",
    "        sum_occurrences += int(occurrences)\n",
    "        largest_basket_size = max(largest_basket_size, int(basket_size))\n",
    "\n",
    "    else:\n",
    "\n",
    "        if current_product:\n",
    "            print '{0}\\t{1}\\t{2}'.format(current_product, largest_basket_size, \n",
    "                                         sum_occurrences)\n",
    "        current_product = product\n",
    "        sum_occurrences = int(occurrences)\n",
    "        largest_basket_size = int(basket_size)\n",
    "\n",
    "if current_product == product:\n",
    "    print '{0}\\t{1}\\t{2}'.format(current_product, largest_basket_size, \n",
    "                                 sum_occurrences)\n"
   ]
  },
  {
   "cell_type": "code",
   "execution_count": 186,
   "metadata": {},
   "outputs": [
    {
     "name": "stdout",
     "output_type": "stream",
     "text": [
      "2021-06-29 22:39:50,442 WARN util.NativeCodeLoader: Unable to load native-hadoop library for your platform... using builtin-java classes where applicable\n",
      "Deleted countProduct\n",
      "2021-06-29 22:39:52,008 WARN util.NativeCodeLoader: Unable to load native-hadoop library for your platform... using builtin-java classes where applicable\n",
      "packageJobJar: [/tmp/hadoop-unjar87811397892607127/] [] /tmp/streamjob3951526904681193941.jar tmpDir=null\n",
      "2021-06-29 22:39:52,533 INFO client.RMProxy: Connecting to ResourceManager at /127.0.0.1:8032\n",
      "2021-06-29 22:39:52,683 INFO client.RMProxy: Connecting to ResourceManager at /127.0.0.1:8032\n",
      "2021-06-29 22:39:52,998 INFO mapreduce.JobResourceUploader: Disabling Erasure Coding for path: /tmp/hadoop-yarn/staging/hduser/.staging/job_1624980160404_0013\n",
      "2021-06-29 22:39:53,437 INFO mapred.FileInputFormat: Total input files to process : 2\n",
      "2021-06-29 22:39:53,807 INFO mapreduce.JobSubmitter: number of splits:3\n",
      "2021-06-29 22:39:53,914 INFO Configuration.deprecation: mapred.reduce.tasks is deprecated. Instead, use mapreduce.job.reduces\n",
      "2021-06-29 22:39:54,074 INFO mapreduce.JobSubmitter: Submitting tokens for job: job_1624980160404_0013\n",
      "2021-06-29 22:39:54,078 INFO mapreduce.JobSubmitter: Executing with tokens: []\n",
      "2021-06-29 22:39:54,251 INFO conf.Configuration: resource-types.xml not found\n",
      "2021-06-29 22:39:54,251 INFO resource.ResourceUtils: Unable to find 'resource-types.xml'.\n",
      "2021-06-29 22:39:54,298 INFO impl.YarnClientImpl: Submitted application application_1624980160404_0013\n",
      "2021-06-29 22:39:54,355 INFO mapreduce.Job: The url to track the job: http://abhishek:8088/proxy/application_1624980160404_0013/\n",
      "2021-06-29 22:39:54,356 INFO mapreduce.Job: Running job: job_1624980160404_0013\n",
      "2021-06-29 22:40:00,431 INFO mapreduce.Job: Job job_1624980160404_0013 running in uber mode : false\n",
      "2021-06-29 22:40:00,434 INFO mapreduce.Job:  map 0% reduce 0%\n",
      "2021-06-29 22:40:08,521 INFO mapreduce.Job:  map 33% reduce 0%\n",
      "2021-06-29 22:40:12,536 INFO mapreduce.Job:  map 67% reduce 0%\n",
      "2021-06-29 22:40:16,550 INFO mapreduce.Job:  map 100% reduce 0%\n",
      "2021-06-29 22:40:17,561 INFO mapreduce.Job:  map 100% reduce 100%\n",
      "2021-06-29 22:40:18,581 INFO mapreduce.Job: Job job_1624980160404_0013 completed successfully\n",
      "2021-06-29 22:40:18,667 INFO mapreduce.Job: Counters: 54\n",
      "\tFile System Counters\n",
      "\t\tFILE: Number of bytes read=238373\n",
      "\t\tFILE: Number of bytes written=1424855\n",
      "\t\tFILE: Number of read operations=0\n",
      "\t\tFILE: Number of large read operations=0\n",
      "\t\tFILE: Number of write operations=0\n",
      "\t\tHDFS: Number of bytes read=6438758\n",
      "\t\tHDFS: Number of bytes written=107309\n",
      "\t\tHDFS: Number of read operations=14\n",
      "\t\tHDFS: Number of large read operations=0\n",
      "\t\tHDFS: Number of write operations=2\n",
      "\t\tHDFS: Number of bytes read erasure-coded=0\n",
      "\tJob Counters \n",
      "\t\tLaunched map tasks=3\n",
      "\t\tLaunched reduce tasks=1\n",
      "\t\tData-local map tasks=3\n",
      "\t\tTotal time spent by all maps in occupied slots (ms)=31534\n",
      "\t\tTotal time spent by all reduces in occupied slots (ms)=6309\n",
      "\t\tTotal time spent by all map tasks (ms)=31534\n",
      "\t\tTotal time spent by all reduce tasks (ms)=6309\n",
      "\t\tTotal vcore-milliseconds taken by all map tasks=31534\n",
      "\t\tTotal vcore-milliseconds taken by all reduce tasks=6309\n",
      "\t\tTotal megabyte-milliseconds taken by all map tasks=32290816\n",
      "\t\tTotal megabyte-milliseconds taken by all reduce tasks=6460416\n",
      "\tMap-Reduce Framework\n",
      "\t\tMap input records=110644\n",
      "\t\tMap output records=11970\n",
      "\t\tMap output bytes=214427\n",
      "\t\tMap output materialized bytes=238385\n",
      "\t\tInput split bytes=264\n",
      "\t\tCombine input records=11970\n",
      "\t\tCombine output records=11970\n",
      "\t\tReduce input groups=5473\n",
      "\t\tReduce shuffle bytes=238385\n",
      "\t\tReduce input records=11970\n",
      "\t\tReduce output records=5473\n",
      "\t\tSpilled Records=23940\n",
      "\t\tShuffled Maps =3\n",
      "\t\tFailed Shuffles=0\n",
      "\t\tMerged Map outputs=3\n",
      "\t\tGC time elapsed (ms)=344\n",
      "\t\tCPU time spent (ms)=4640\n",
      "\t\tPhysical memory (bytes) snapshot=1157885952\n",
      "\t\tVirtual memory (bytes) snapshot=10232840192\n",
      "\t\tTotal committed heap usage (bytes)=1027604480\n",
      "\t\tPeak Map Physical memory (bytes)=343670784\n",
      "\t\tPeak Map Virtual memory (bytes)=2558590976\n",
      "\t\tPeak Reduce Physical memory (bytes)=229040128\n",
      "\t\tPeak Reduce Virtual memory (bytes)=2561941504\n",
      "\tShuffle Errors\n",
      "\t\tBAD_ID=0\n",
      "\t\tCONNECTION=0\n",
      "\t\tIO_ERROR=0\n",
      "\t\tWRONG_LENGTH=0\n",
      "\t\tWRONG_MAP=0\n",
      "\t\tWRONG_REDUCE=0\n",
      "\tFile Input Format Counters \n",
      "\t\tBytes Read=6438494\n",
      "\tFile Output Format Counters \n",
      "\t\tBytes Written=107309\n",
      "2021-06-29 22:40:18,668 INFO streaming.StreamJob: Output directory: countProduct\n"
     ]
    }
   ],
   "source": [
    "# Delete previous output\n",
    "!chmod -R 777 /home/hduser/MapReduce/\n",
    "!hdfs dfs -rm -r countProduct\n",
    "# Hadoop streaming command\n",
    "!hadoop jar /home/abhishek/Downloads/hadoop-streaming-3.2.2.jar \\\n",
    "    -D mapred.reduce.tasks=1 -mapper /home/hduser/MapReduce/src/mapper.py -combiner /home/hduser/MapReduce/src/combiner.py\\\n",
    "    -reducer /home/hduser/MapReduce/src/combiner.py -input /Data/* \\\n",
    "    -output countProduct"
   ]
  },
  {
   "cell_type": "code",
   "execution_count": 187,
   "metadata": {},
   "outputs": [
    {
     "name": "stdout",
     "output_type": "stream",
     "text": [
      "2021-06-29 22:40:22,590 WARN util.NativeCodeLoader: Unable to load native-hadoop library for your platform... using builtin-java classes where applicable\n",
      "\"\t1\t37\n",
      "\"st_100_ARCH_ST\t7\t2\n",
      "\"st_100_BOYLSTON_ST\t7\t1\n",
      "\"st_101_W_BROADWAY\t7\t33\n",
      "\"st_1060_MORTON_ST\t7\t1\n",
      "\"st_111_BRUNSWICK_ST\t7\t1\n",
      "\"st_112_HOMES_AVE\t7\t1\n",
      "\"st_1165_BLUE_HILL_AVE\t7\t31\n",
      "\"st_120_TREMONT_ST\t7\t1\n",
      "\"st_123_CAPEN_ST\t7\t1\n",
      "\"st_1249_HYDE_PARK_AVE\t7\t42\n",
      "\"st_1261_DORCHESTER_AVE\t7\t1\n",
      "\"st_1331_DORCHESTER_AVE\t7\t1\n",
      "\"st_133_THORNTON\t7\t1\n",
      "\"st_134_NORTHAMPTON_ST\t7\t1\n",
      "\"st_140_MAIN_ST\t7\t1\n",
      "\"st_141_MASSACHUSETTS_AVE\t7\t1\n",
      "\"st_144_MCBRIDE_ST\t7\t1\n",
      "\"st_146_PARSONS_ST\t7\t1\n",
      "\"st_1500_DORCHESTER_AVE\t7\t1\n",
      "cat: Unable to write to output stream.\n"
     ]
    }
   ],
   "source": [
    "# Copy to local\n",
    "!hdfs dfs -cat countProduct/part-00000 | head -n 20"
   ]
  },
  {
   "cell_type": "code",
   "execution_count": 188,
   "metadata": {},
   "outputs": [
    {
     "name": "stdout",
     "output_type": "stream",
     "text": [
      "2021-06-29 22:40:24,504 WARN util.NativeCodeLoader: Unable to load native-hadoop library for your platform... using builtin-java classes where applicable\r\n"
     ]
    }
   ],
   "source": [
    "#Copy the data to local\n",
    "!hdfs dfs -cat countProduct/part-00000* > /home/hduser/MapReduce/Results/count.txt"
   ]
  },
  {
   "cell_type": "markdown",
   "metadata": {},
   "source": [
    "## Analysis from MapReduce Count"
   ]
  },
  {
   "cell_type": "code",
   "execution_count": 189,
   "metadata": {},
   "outputs": [
    {
     "data": {
      "text/html": [
       "<div>\n",
       "<style scoped>\n",
       "    .dataframe tbody tr th:only-of-type {\n",
       "        vertical-align: middle;\n",
       "    }\n",
       "\n",
       "    .dataframe tbody tr th {\n",
       "        vertical-align: top;\n",
       "    }\n",
       "\n",
       "    .dataframe thead th {\n",
       "        text-align: right;\n",
       "    }\n",
       "</style>\n",
       "<table border=\"1\" class=\"dataframe\">\n",
       "  <thead>\n",
       "    <tr style=\"text-align: right;\">\n",
       "      <th></th>\n",
       "      <th>Name</th>\n",
       "      <th>Count</th>\n",
       "    </tr>\n",
       "  </thead>\n",
       "  <tbody>\n",
       "    <tr>\n",
       "      <th>475</th>\n",
       "      <td>di_B2</td>\n",
       "      <td>16790</td>\n",
       "    </tr>\n",
       "    <tr>\n",
       "      <th>485</th>\n",
       "      <td>dw_Friday</td>\n",
       "      <td>16376</td>\n",
       "    </tr>\n",
       "    <tr>\n",
       "      <th>486</th>\n",
       "      <td>dw_Monday</td>\n",
       "      <td>15897</td>\n",
       "    </tr>\n",
       "    <tr>\n",
       "      <th>491</th>\n",
       "      <td>dw_Wednesday</td>\n",
       "      <td>15832</td>\n",
       "    </tr>\n",
       "    <tr>\n",
       "      <th>489</th>\n",
       "      <td>dw_Thursday</td>\n",
       "      <td>15687</td>\n",
       "    </tr>\n",
       "  </tbody>\n",
       "</table>\n",
       "</div>"
      ],
      "text/plain": [
       "             Name  Count\n",
       "475         di_B2  16790\n",
       "485     dw_Friday  16376\n",
       "486     dw_Monday  15897\n",
       "491  dw_Wednesday  15832\n",
       "489   dw_Thursday  15687"
      ]
     },
     "execution_count": 189,
     "metadata": {},
     "output_type": "execute_result"
    }
   ],
   "source": [
    "#Read the count MapReduce\n",
    "df_count = pd.read_csv('./Results/count.txt',delimiter='\\t',names=['Name','Total Number','Count'])\n",
    "df_count = df_count.drop('Total Number',axis =1)\n",
    "\n",
    "df_max = df_count.sort_values('Count',ascending=False)\n",
    "df_max.head()"
   ]
  },
  {
   "cell_type": "markdown",
   "metadata": {},
   "source": [
    "## Plotting Top 5 attributes value "
   ]
  },
  {
   "cell_type": "code",
   "execution_count": 190,
   "metadata": {},
   "outputs": [],
   "source": [
    "def df_plot(df,df_max):\n",
    "    for i in df.columns:\n",
    "        x = df[f'{i}'].unique()\n",
    "        df_new = df_max.loc[df_max.Name.isin(x) ][:5]\n",
    "        plt.figure(figsize=(12,5))\n",
    "        plt.bar(df_new.Name,df_new.Count)\n",
    "        plt.title(f\"{i} vs No. of Cases\")\n",
    "        plt.show()"
   ]
  },
  {
   "cell_type": "code",
   "execution_count": 191,
   "metadata": {},
   "outputs": [
    {
     "data": {
      "image/png": "[encoded data removed]",
      "text/plain": [
       "<Figure size 864x360 with 1 Axes>"
      ]
     },
     "metadata": {
      "needs_background": "light"
     },
     "output_type": "display_data"
    },
    {
     "data": {
      "image/png": "[encoded data removed]",
      "text/plain": [
       "<Figure size 864x360 with 1 Axes>"
      ]
     },
     "metadata": {
      "needs_background": "light"
     },
     "output_type": "display_data"
    },
    {
     "data": {
      "image/png": "[encoded data removed]",
      "text/plain": [
       "<Figure size 864x360 with 1 Axes>"
      ]
     },
     "metadata": {
      "needs_background": "light"
     },
     "output_type": "display_data"
    },
    {
     "data": {
      "image/png": "[encoded data removed]",
      "text/plain": [
       "<Figure size 864x360 with 1 Axes>"
      ]
     },
     "metadata": {
      "needs_background": "light"
     },
     "output_type": "display_data"
    },
    {
     "data": {
      "image/png": "[encoded data removed]",
      "text/plain": [
       "<Figure size 864x360 with 1 Axes>"
      ]
     },
     "metadata": {
      "needs_background": "light"
     },
     "output_type": "display_data"
    },
    {
     "data": {
      "image/png": "[encoded data removed]",
      "text/plain": [
       "<Figure size 864x360 with 1 Axes>"
      ]
     },
     "metadata": {
      "needs_background": "light"
     },
     "output_type": "display_data"
    },
    {
     "data": {
      "image/png": "[encoded data removed]",
      "text/plain": [
       "<Figure size 864x360 with 1 Axes>"
      ]
     },
     "metadata": {
      "needs_background": "light"
     },
     "output_type": "display_data"
    }
   ],
   "source": [
    "df_plot(df,df_max)"
   ]
  },
  {
   "cell_type": "markdown",
   "metadata": {},
   "source": [
    "# Apriori MapReduce"
   ]
  },
  {
   "cell_type": "code",
   "execution_count": 192,
   "metadata": {},
   "outputs": [
    {
     "name": "stdout",
     "output_type": "stream",
     "text": [
      "Writing ./src/apriori_mapper.py\n"
     ]
    }
   ],
   "source": [
    "%%writefile ./src/apriori_mapper.py\n",
    "#!/usr/bin/env python\n",
    "import itertools\n",
    "import sys\n",
    "\n",
    "item_count = int(sys.argv[1])\n",
    "valid_items = set()\n",
    "\n",
    "# If our item count is greater than 1, then load the corresponding model file\n",
    "# indicating the items we should care about.\n",
    "\n",
    "if item_count > 1:\n",
    "    model_id = str(item_count - 1)\n",
    "\n",
    "    # The first k items in each model row will correspond to the products. We\n",
    "    # can build up the set of valid items simply by iterating over the model\n",
    "    # and adding each of the elements in the first k columns.\n",
    "\n",
    "    with open('apriori_model_' + model_id + '.txt') as model_file:\n",
    "        for line in model_file:\n",
    "            model_row = line.strip().split('\\t')\n",
    "            old_itemset = model_row[0:item_count - 1]\n",
    "            valid_items.update(old_itemset)\n",
    "\n",
    "\"\"\"\n",
    "Emit all the itemsets for this basket.\n",
    "\"\"\"\n",
    "def emit_itemsets(basket):\n",
    "    # First, we need to find out which items in the basket match the items\n",
    "    # which we can accept in our k-itemsets. Note that we will accept every\n",
    "    # item when the item count is 1.\n",
    "    \n",
    "    matching_items = []\n",
    "    \n",
    "    for item in basket:\n",
    "        if item_count == 1 or item in valid_items:\n",
    "            matching_items.append(item)\n",
    "    \n",
    "    # If we don't have enough items, we have no itemsets to emit.\n",
    "    \n",
    "    if len(matching_items) < item_count:\n",
    "        return\n",
    "\n",
    "    # Otherwise, emit all possible subsets. We'll use the pairs approach to\n",
    "    # make things easier to read.\n",
    "    \n",
    "    for itemset in itertools.permutations(matching_items, item_count):\n",
    "        print '\\t'.join(itemset) + '\\t1'\n",
    "        \n",
    "    # Also emit a counter for subcombinations so that we can create a\n",
    "    # tally to use for computing confidence.\n",
    "\n",
    "    if item_count > 1:\n",
    "        for sub_itemset in itertools.permutations(matching_items, item_count - 1):\n",
    "            print '\\t'.join(sub_itemset) + '\\t*\\t1'\n",
    "        \n",
    "    # Finally, counter so that we can track the number of matching baskets.\n",
    "\n",
    "    print ('*\\t' * item_count) + str(1)\n",
    "    \n",
    "# Iterate over the baskets and emit the itemsets for each basket.\n",
    "\n",
    "for line in sys.stdin:\n",
    "    basket = line.strip().split(' ')\n",
    "    emit_itemsets(basket)"
   ]
  },
  {
   "cell_type": "code",
   "execution_count": 193,
   "metadata": {},
   "outputs": [
    {
     "name": "stdout",
     "output_type": "stream",
     "text": [
      "Writing ./src/apriori_reducer.py\n"
     ]
    }
   ],
   "source": [
    "%%writefile ./src/apriori_reducer.py\n",
    "#!/usr/bin/env python\n",
    "import sys\n",
    "\n",
    "support_threshold = int(sys.argv[1])\n",
    "\n",
    "basket_count = 0\n",
    "confidence_count = 0\n",
    "\n",
    "current_itemset = None\n",
    "current_count = 0\n",
    "\n",
    "\"\"\"\n",
    "Emit the current itemset and its count if they exceed support_threshold.\n",
    "\"\"\"\n",
    "def emit_count():\n",
    "\n",
    "    # Declare that we want to use the global basket_count and confidence_count\n",
    "    # variables rather than something local to the function.\n",
    "    \n",
    "    global basket_count, confidence_count\n",
    "    \n",
    "    # Check if we haven't started counting anything yet.\n",
    "    \n",
    "    if current_itemset is None:\n",
    "        return\n",
    "\n",
    "    # Check if we are computing the basket count from the sort operation.\n",
    "    \n",
    "    if current_itemset[0] == '*':\n",
    "        basket_count = current_count\n",
    "        return\n",
    "\n",
    "    if current_itemset[-1] == '*':\n",
    "        confidence_count = current_count\n",
    "        return\n",
    "\n",
    "    # Check if we have exceeded the necessary threshold.\n",
    "\n",
    "    if current_count >= support_threshold:\n",
    "        frequency = 1.0 * current_count / basket_count\n",
    "        \n",
    "        \n",
    "        itemset_stats = str(current_count) + '\\t' + str(frequency)\n",
    "        \n",
    "        if len(current_itemset) > 1:\n",
    "            confidence = 1.0 * current_count / confidence_count\n",
    "            itemset_stats += '\\t' + str(confidence)\n",
    "        \n",
    "        print '\\t'.join(current_itemset) + '\\t' + itemset_stats\n",
    "\n",
    "for line in sys.stdin:\n",
    "\n",
    "    # Each line corresponds to the itemset stats. The last item will be a count\n",
    "    # value, while the first items will be the itemset.\n",
    "    \n",
    "    itemset_stats = line.strip().split('\\t')\n",
    "\n",
    "    itemset = itemset_stats[0:-1]\n",
    "    count = int(itemset_stats[-1])\n",
    "\n",
    "    # If we haven't switched itemsets, continue accumulating the counter.\n",
    "    \n",
    "    if current_itemset == itemset:\n",
    "        current_count += count\n",
    "        continue\n",
    "\n",
    "    # If we have switched itemsets, emit the count for the old itemset and then\n",
    "    # switch to the new itemset.\n",
    "        \n",
    "    emit_count()\n",
    "    current_itemset = itemset\n",
    "    current_count = count\n",
    "\n",
    "# We are guaranteed to not have printed the very last itemset, so emit it now.\n",
    "    \n",
    "emit_count()"
   ]
  },
  {
   "cell_type": "code",
   "execution_count": 194,
   "metadata": {},
   "outputs": [],
   "source": [
    "\n",
    "!cat ./Clean_data/file0.txt | python ./src/apriori_mapper.py 1 | sort -k1 | python ./src/apriori_reducer.py 100 > apriori_model_1.txt"
   ]
  },
  {
   "cell_type": "code",
   "execution_count": 198,
   "metadata": {},
   "outputs": [],
   "source": [
    "!cat ./Clean_data/file0.txt | python ./src/apriori_mapper.py 2 | sort -k1 -k2 | python ./src/apriori_reducer.py 100 > apriori_model_2.txt"
   ]
  },
  {
   "cell_type": "code",
   "execution_count": 200,
   "metadata": {},
   "outputs": [],
   "source": [
    "!cat ./Clean_data/file0.txt | ./src/apriori_mapper.py 3 | sort -k1 -k2 -k3 | python ./src/apriori_reducer.py 100 > apriori_model_3.txt"
   ]
  },
  {
   "cell_type": "code",
   "execution_count": 201,
   "metadata": {},
   "outputs": [
    {
     "name": "stdout",
     "output_type": "stream",
     "text": [
      "2021-06-29 22:43:22,947 WARN util.NativeCodeLoader: Unable to load native-hadoop library for your platform... using builtin-java classes where applicable\n",
      "Deleted apriori_model_1\n",
      "2021-06-29 22:43:24,553 WARN util.NativeCodeLoader: Unable to load native-hadoop library for your platform... using builtin-java classes where applicable\n",
      "packageJobJar: [/tmp/hadoop-unjar4252933239865173054/] [] /tmp/streamjob521930243030083170.jar tmpDir=null\n",
      "2021-06-29 22:43:25,069 INFO client.RMProxy: Connecting to ResourceManager at /127.0.0.1:8032\n",
      "2021-06-29 22:43:25,222 INFO client.RMProxy: Connecting to ResourceManager at /127.0.0.1:8032\n",
      "2021-06-29 22:43:25,558 INFO mapreduce.JobResourceUploader: Disabling Erasure Coding for path: /tmp/hadoop-yarn/staging/hduser/.staging/job_1624980160404_0014\n",
      "2021-06-29 22:43:25,966 INFO mapred.FileInputFormat: Total input files to process : 2\n",
      "2021-06-29 22:43:26,320 INFO mapreduce.JobSubmitter: number of splits:3\n",
      "2021-06-29 22:43:26,442 INFO Configuration.deprecation: mapred.text.key.partitioner.options is deprecated. Instead, use mapreduce.partition.keypartitioner.options\n",
      "2021-06-29 22:43:26,442 INFO Configuration.deprecation: mapred.reduce.tasks is deprecated. Instead, use mapreduce.job.reduces\n",
      "2021-06-29 22:43:26,442 INFO Configuration.deprecation: mapred.text.key.comparator.options is deprecated. Instead, use mapreduce.partition.keycomparator.options\n",
      "2021-06-29 22:43:26,442 INFO Configuration.deprecation: mapred.output.key.comparator.class is deprecated. Instead, use mapreduce.job.output.key.comparator.class\n",
      "2021-06-29 22:43:26,610 INFO mapreduce.JobSubmitter: Submitting tokens for job: job_1624980160404_0014\n",
      "2021-06-29 22:43:26,613 INFO mapreduce.JobSubmitter: Executing with tokens: []\n",
      "2021-06-29 22:43:26,782 INFO conf.Configuration: resource-types.xml not found\n",
      "2021-06-29 22:43:26,782 INFO resource.ResourceUtils: Unable to find 'resource-types.xml'.\n",
      "2021-06-29 22:43:26,838 INFO impl.YarnClientImpl: Submitted application application_1624980160404_0014\n",
      "2021-06-29 22:43:26,886 INFO mapreduce.Job: The url to track the job: http://abhishek:8088/proxy/application_1624980160404_0014/\n",
      "2021-06-29 22:43:26,888 INFO mapreduce.Job: Running job: job_1624980160404_0014\n",
      "2021-06-29 22:43:31,989 INFO mapreduce.Job: Job job_1624980160404_0014 running in uber mode : false\n",
      "2021-06-29 22:43:31,992 INFO mapreduce.Job:  map 0% reduce 0%\n",
      "2021-06-29 22:43:40,172 INFO mapreduce.Job:  map 67% reduce 0%\n",
      "2021-06-29 22:43:41,179 INFO mapreduce.Job:  map 100% reduce 0%\n",
      "2021-06-29 22:43:47,227 INFO mapreduce.Job:  map 100% reduce 100%\n",
      "2021-06-29 22:43:48,262 INFO mapreduce.Job: Job job_1624980160404_0014 completed successfully\n",
      "2021-06-29 22:43:48,380 INFO mapreduce.Job: Counters: 54\n",
      "\tFile System Counters\n",
      "\t\tFILE: Number of bytes read=11005942\n",
      "\t\tFILE: Number of bytes written=22961165\n",
      "\t\tFILE: Number of read operations=0\n",
      "\t\tFILE: Number of large read operations=0\n",
      "\t\tFILE: Number of write operations=0\n",
      "\t\tHDFS: Number of bytes read=6438758\n",
      "\t\tHDFS: Number of bytes written=21127\n",
      "\t\tHDFS: Number of read operations=14\n",
      "\t\tHDFS: Number of large read operations=0\n",
      "\t\tHDFS: Number of write operations=2\n",
      "\t\tHDFS: Number of bytes read erasure-coded=0\n",
      "\tJob Counters \n",
      "\t\tLaunched map tasks=3\n",
      "\t\tLaunched reduce tasks=1\n",
      "\t\tData-local map tasks=3\n",
      "\t\tTotal time spent by all maps in occupied slots (ms)=18302\n",
      "\t\tTotal time spent by all reduces in occupied slots (ms)=3940\n",
      "\t\tTotal time spent by all map tasks (ms)=18302\n",
      "\t\tTotal time spent by all reduce tasks (ms)=3940\n",
      "\t\tTotal vcore-milliseconds taken by all map tasks=18302\n",
      "\t\tTotal vcore-milliseconds taken by all reduce tasks=3940\n",
      "\t\tTotal megabyte-milliseconds taken by all map tasks=18741248\n",
      "\t\tTotal megabyte-milliseconds taken by all reduce tasks=4034560\n",
      "\tMap-Reduce Framework\n",
      "\t\tMap input records=110644\n",
      "\t\tMap output records=870050\n",
      "\t\tMap output bytes=9265836\n",
      "\t\tMap output materialized bytes=11005954\n",
      "\t\tInput split bytes=264\n",
      "\t\tCombine input records=0\n",
      "\t\tCombine output records=0\n",
      "\t\tReduce input groups=5474\n",
      "\t\tReduce shuffle bytes=11005954\n",
      "\t\tReduce input records=870050\n",
      "\t\tReduce output records=705\n",
      "\t\tSpilled Records=1740100\n",
      "\t\tShuffled Maps =3\n",
      "\t\tFailed Shuffles=0\n",
      "\t\tMerged Map outputs=3\n",
      "\t\tGC time elapsed (ms)=463\n",
      "\t\tCPU time spent (ms)=13690\n",
      "\t\tPhysical memory (bytes) snapshot=1380233216\n",
      "\t\tVirtual memory (bytes) snapshot=10237267968\n",
      "\t\tTotal committed heap usage (bytes)=1253048320\n",
      "\t\tPeak Map Physical memory (bytes)=410853376\n",
      "\t\tPeak Map Virtual memory (bytes)=2558468096\n",
      "\t\tPeak Reduce Physical memory (bytes)=261681152\n",
      "\t\tPeak Reduce Virtual memory (bytes)=2563051520\n",
      "\tShuffle Errors\n",
      "\t\tBAD_ID=0\n",
      "\t\tCONNECTION=0\n",
      "\t\tIO_ERROR=0\n",
      "\t\tWRONG_LENGTH=0\n",
      "\t\tWRONG_MAP=0\n",
      "\t\tWRONG_REDUCE=0\n",
      "\tFile Input Format Counters \n",
      "\t\tBytes Read=6438494\n",
      "\tFile Output Format Counters \n",
      "\t\tBytes Written=21127\n",
      "2021-06-29 22:43:48,381 INFO streaming.StreamJob: Output directory: apriori_model_1\n"
     ]
    }
   ],
   "source": [
    "# Change permissions on mapper and reducer\n",
    "!chmod -R 777 /home/hduser/MapReduce/\n",
    "!chmod +x ./src/apriori_mapper.py\n",
    "!chmod +x ./src/apriori_reducer.py\n",
    "\n",
    "\n",
    "# If output folder already exists, delete it\n",
    "!hdfs dfs -rm -r apriori_model_1\n",
    "\n",
    "# Run job\n",
    "!hadoop jar /home/abhishek/Downloads/hadoop-streaming-3.2.2.jar \\\n",
    "-D mapred.output.key.comparator.class=org.apache.hadoop.mapred.lib.KeyFieldBasedComparator \\\n",
    "-D mapred.text.key.partitioner.options=-k1 \\\n",
    "-D stream.num.map.output.key.fields=3 \\\n",
    "-D mapred.text.key.comparator.options='-k1 -k2' \\\n",
    "-D mapred.reduce.tasks=1 \\\n",
    "-mapper '/home/hduser/MapReduce/src/apriori_mapper.py 1' \\\n",
    "-reducer '/home/hduser/MapReduce/src/apriori_reducer.py 100' \\\n",
    "-input /Data/* \\\n",
    "-output apriori_model_1"
   ]
  },
  {
   "cell_type": "code",
   "execution_count": 202,
   "metadata": {},
   "outputs": [
    {
     "name": "stdout",
     "output_type": "stream",
     "text": [
      "2021-06-29 22:43:59,637 WARN util.NativeCodeLoader: Unable to load native-hadoop library for your platform... using builtin-java classes where applicable\n",
      "Deleted apriori_model_2\n",
      "2021-06-29 22:44:01,118 WARN streaming.StreamJob: -file option is deprecated, please use generic option -files instead.\n",
      "2021-06-29 22:44:01,223 WARN util.NativeCodeLoader: Unable to load native-hadoop library for your platform... using builtin-java classes where applicable\n",
      "packageJobJar: [apriori_model_1.txt, /tmp/hadoop-unjar2637366741680018612/] [] /tmp/streamjob2600735099656947823.jar tmpDir=null\n",
      "2021-06-29 22:44:02,142 INFO client.RMProxy: Connecting to ResourceManager at /127.0.0.1:8032\n",
      "2021-06-29 22:44:02,307 INFO client.RMProxy: Connecting to ResourceManager at /127.0.0.1:8032\n",
      "2021-06-29 22:44:02,770 INFO mapreduce.JobResourceUploader: Disabling Erasure Coding for path: /tmp/hadoop-yarn/staging/hduser/.staging/job_1624980160404_0015\n",
      "2021-06-29 22:44:03,517 INFO mapred.FileInputFormat: Total input files to process : 1\n",
      "2021-06-29 22:44:03,859 INFO mapreduce.JobSubmitter: number of splits:2\n",
      "2021-06-29 22:44:03,953 INFO Configuration.deprecation: mapred.text.key.partitioner.options is deprecated. Instead, use mapreduce.partition.keypartitioner.options\n",
      "2021-06-29 22:44:03,953 INFO Configuration.deprecation: mapred.reduce.tasks is deprecated. Instead, use mapreduce.job.reduces\n",
      "2021-06-29 22:44:03,954 INFO Configuration.deprecation: mapred.text.key.comparator.options is deprecated. Instead, use mapreduce.partition.keycomparator.options\n",
      "2021-06-29 22:44:03,954 INFO Configuration.deprecation: mapred.output.key.comparator.class is deprecated. Instead, use mapreduce.job.output.key.comparator.class\n",
      "2021-06-29 22:44:04,105 INFO mapreduce.JobSubmitter: Submitting tokens for job: job_1624980160404_0015\n",
      "2021-06-29 22:44:04,106 INFO mapreduce.JobSubmitter: Executing with tokens: []\n",
      "2021-06-29 22:44:04,363 INFO conf.Configuration: resource-types.xml not found\n",
      "2021-06-29 22:44:04,363 INFO resource.ResourceUtils: Unable to find 'resource-types.xml'.\n",
      "2021-06-29 22:44:04,429 INFO impl.YarnClientImpl: Submitted application application_1624980160404_0015\n",
      "2021-06-29 22:44:04,470 INFO mapreduce.Job: The url to track the job: http://abhishek:8088/proxy/application_1624980160404_0015/\n",
      "2021-06-29 22:44:04,472 INFO mapreduce.Job: Running job: job_1624980160404_0015\n",
      "2021-06-29 22:44:09,589 INFO mapreduce.Job: Job job_1624980160404_0015 running in uber mode : false\n",
      "2021-06-29 22:44:09,592 INFO mapreduce.Job:  map 0% reduce 0%\n",
      "2021-06-29 22:44:20,724 INFO mapreduce.Job:  map 100% reduce 0%\n",
      "2021-06-29 22:44:31,790 INFO mapreduce.Job:  map 100% reduce 100%\n",
      "2021-06-29 22:44:32,815 INFO mapreduce.Job: Job job_1624980160404_0015 completed successfully\n",
      "2021-06-29 22:44:32,918 INFO mapreduce.Job: Counters: 54\n",
      "\tFile System Counters\n",
      "\t\tFILE: Number of bytes read=72402061\n",
      "\t\tFILE: Number of bytes written=145519789\n",
      "\t\tFILE: Number of read operations=0\n",
      "\t\tFILE: Number of large read operations=0\n",
      "\t\tFILE: Number of write operations=0\n",
      "\t\tHDFS: Number of bytes read=5371396\n",
      "\t\tHDFS: Number of bytes written=284888\n",
      "\t\tHDFS: Number of read operations=11\n",
      "\t\tHDFS: Number of large read operations=0\n",
      "\t\tHDFS: Number of write operations=2\n",
      "\t\tHDFS: Number of bytes read erasure-coded=0\n",
      "\tJob Counters \n",
      "\t\tLaunched map tasks=2\n",
      "\t\tLaunched reduce tasks=1\n",
      "\t\tData-local map tasks=2\n",
      "\t\tTotal time spent by all maps in occupied slots (ms)=18061\n",
      "\t\tTotal time spent by all reduces in occupied slots (ms)=7488\n",
      "\t\tTotal time spent by all map tasks (ms)=18061\n",
      "\t\tTotal time spent by all reduce tasks (ms)=7488\n",
      "\t\tTotal vcore-milliseconds taken by all map tasks=18061\n",
      "\t\tTotal vcore-milliseconds taken by all reduce tasks=7488\n",
      "\t\tTotal megabyte-milliseconds taken by all map tasks=18494464\n",
      "\t\tTotal megabyte-milliseconds taken by all reduce tasks=7667712\n",
      "\tMap-Reduce Framework\n",
      "\t\tMap input records=90941\n",
      "\t\tMap output records=3641879\n",
      "\t\tMap output bytes=65118297\n",
      "\t\tMap output materialized bytes=72402067\n",
      "\t\tInput split bytes=176\n",
      "\t\tCombine input records=0\n",
      "\t\tCombine output records=0\n",
      "\t\tReduce input groups=100063\n",
      "\t\tReduce shuffle bytes=72402067\n",
      "\t\tReduce input records=3641879\n",
      "\t\tReduce output records=5510\n",
      "\t\tSpilled Records=7283758\n",
      "\t\tShuffled Maps =2\n",
      "\t\tFailed Shuffles=0\n",
      "\t\tMerged Map outputs=2\n",
      "\t\tGC time elapsed (ms)=374\n",
      "\t\tCPU time spent (ms)=22250\n",
      "\t\tPhysical memory (bytes) snapshot=1348333568\n",
      "\t\tVirtual memory (bytes) snapshot=7676928000\n",
      "\t\tTotal committed heap usage (bytes)=1233649664\n",
      "\t\tPeak Map Physical memory (bytes)=489213952\n",
      "\t\tPeak Map Virtual memory (bytes)=2559131648\n",
      "\t\tPeak Reduce Physical memory (bytes)=373071872\n",
      "\t\tPeak Reduce Virtual memory (bytes)=2562842624\n",
      "\tShuffle Errors\n",
      "\t\tBAD_ID=0\n",
      "\t\tCONNECTION=0\n",
      "\t\tIO_ERROR=0\n",
      "\t\tWRONG_LENGTH=0\n",
      "\t\tWRONG_MAP=0\n",
      "\t\tWRONG_REDUCE=0\n",
      "\tFile Input Format Counters \n",
      "\t\tBytes Read=5371220\n",
      "\tFile Output Format Counters \n",
      "\t\tBytes Written=284888\n",
      "2021-06-29 22:44:32,918 INFO streaming.StreamJob: Output directory: apriori_model_2\n"
     ]
    }
   ],
   "source": [
    "# Change permissions on mapper and reducer\n",
    "!chmod -R 777 /home/hduser/MapReduce/\n",
    "\n",
    "# If output folder already exists, delete it\n",
    "!hdfs dfs -rm -r apriori_model_2\n",
    "\n",
    "# Run job\n",
    "!hadoop jar /home/abhishek/Downloads/hadoop-streaming-3.2.2.jar \\\n",
    "-D mapred.output.key.comparator.class=org.apache.hadoop.mapred.lib.KeyFieldBasedComparator \\\n",
    "-D mapred.text.key.partitioner.options=-k1 \\\n",
    "-D stream.num.map.output.key.fields=3 \\\n",
    "-D mapred.text.key.comparator.options='-k1 -k2' \\\n",
    "-D mapred.reduce.tasks=1 \\\n",
    "-mapper '/home/hduser/MapReduce/src/apriori_mapper.py 2' \\\n",
    "-reducer '/home/hduser/MapReduce/src/apriori_reducer.py 100' \\\n",
    "-file apriori_model_1.txt \\\n",
    "-input /Data/file0.txt* \\\n",
    "-output apriori_model_2"
   ]
  },
  {
   "cell_type": "code",
   "execution_count": 203,
   "metadata": {},
   "outputs": [
    {
     "name": "stdout",
     "output_type": "stream",
     "text": [
      "2021-06-29 22:45:02,248 WARN util.NativeCodeLoader: Unable to load native-hadoop library for your platform... using builtin-java classes where applicable\n",
      "Deleted apriori_model_3\n",
      "2021-06-29 22:45:03,656 WARN streaming.StreamJob: -file option is deprecated, please use generic option -files instead.\n",
      "2021-06-29 22:45:03,763 WARN util.NativeCodeLoader: Unable to load native-hadoop library for your platform... using builtin-java classes where applicable\n",
      "packageJobJar: [apriori_model_2.txt, /tmp/hadoop-unjar1155913636850216749/] [] /tmp/streamjob106987134103996658.jar tmpDir=null\n",
      "2021-06-29 22:45:04,344 INFO client.RMProxy: Connecting to ResourceManager at /127.0.0.1:8032\n",
      "2021-06-29 22:45:04,498 INFO client.RMProxy: Connecting to ResourceManager at /127.0.0.1:8032\n",
      "2021-06-29 22:45:04,781 INFO mapreduce.JobResourceUploader: Disabling Erasure Coding for path: /tmp/hadoop-yarn/staging/hduser/.staging/job_1624980160404_0016\n",
      "2021-06-29 22:45:05,440 INFO mapred.FileInputFormat: Total input files to process : 1\n",
      "2021-06-29 22:45:05,803 INFO mapreduce.JobSubmitter: number of splits:2\n",
      "2021-06-29 22:45:05,894 INFO Configuration.deprecation: mapred.text.key.partitioner.options is deprecated. Instead, use mapreduce.partition.keypartitioner.options\n",
      "2021-06-29 22:45:05,895 INFO Configuration.deprecation: mapred.reduce.tasks is deprecated. Instead, use mapreduce.job.reduces\n",
      "2021-06-29 22:45:05,895 INFO Configuration.deprecation: mapred.text.key.comparator.options is deprecated. Instead, use mapreduce.partition.keycomparator.options\n",
      "2021-06-29 22:45:05,896 INFO Configuration.deprecation: mapred.output.key.comparator.class is deprecated. Instead, use mapreduce.job.output.key.comparator.class\n",
      "2021-06-29 22:45:06,049 INFO mapreduce.JobSubmitter: Submitting tokens for job: job_1624980160404_0016\n",
      "2021-06-29 22:45:06,052 INFO mapreduce.JobSubmitter: Executing with tokens: []\n",
      "2021-06-29 22:45:06,214 INFO conf.Configuration: resource-types.xml not found\n",
      "2021-06-29 22:45:06,214 INFO resource.ResourceUtils: Unable to find 'resource-types.xml'.\n",
      "2021-06-29 22:45:06,280 INFO impl.YarnClientImpl: Submitted application application_1624980160404_0016\n",
      "2021-06-29 22:45:06,327 INFO mapreduce.Job: The url to track the job: http://abhishek:8088/proxy/application_1624980160404_0016/\n",
      "2021-06-29 22:45:06,329 INFO mapreduce.Job: Running job: job_1624980160404_0016\n",
      "2021-06-29 22:45:12,442 INFO mapreduce.Job: Job job_1624980160404_0016 running in uber mode : false\n",
      "2021-06-29 22:45:12,443 INFO mapreduce.Job:  map 0% reduce 0%\n",
      "2021-06-29 22:45:28,566 INFO mapreduce.Job:  map 36% reduce 0%\n",
      "2021-06-29 22:45:34,625 INFO mapreduce.Job:  map 46% reduce 0%\n",
      "2021-06-29 22:45:40,677 INFO mapreduce.Job:  map 54% reduce 0%\n",
      "2021-06-29 22:45:46,710 INFO mapreduce.Job:  map 62% reduce 0%\n",
      "2021-06-29 22:45:52,737 INFO mapreduce.Job:  map 64% reduce 0%\n",
      "2021-06-29 22:45:59,771 INFO mapreduce.Job:  map 67% reduce 0%\n",
      "2021-06-29 22:46:04,809 INFO mapreduce.Job:  map 72% reduce 0%\n",
      "2021-06-29 22:46:10,848 INFO mapreduce.Job:  map 80% reduce 0%\n",
      "2021-06-29 22:46:16,892 INFO mapreduce.Job:  map 84% reduce 0%\n",
      "2021-06-29 22:46:23,127 INFO mapreduce.Job:  map 93% reduce 0%\n",
      "2021-06-29 22:46:30,927 INFO mapreduce.Job:  map 99% reduce 0%\n",
      "2021-06-29 22:46:32,243 INFO mapreduce.Job:  map 100% reduce 0%\n",
      "2021-06-29 22:46:58,404 INFO mapreduce.Job:  map 100% reduce 82%\n",
      "2021-06-29 22:47:04,431 INFO mapreduce.Job:  map 100% reduce 94%\n",
      "2021-06-29 22:47:07,446 INFO mapreduce.Job:  map 100% reduce 100%\n",
      "2021-06-29 22:47:08,467 INFO mapreduce.Job: Job job_1624980160404_0016 completed successfully\n",
      "2021-06-29 22:47:08,669 INFO mapreduce.Job: Counters: 54\n",
      "\tFile System Counters\n",
      "\t\tFILE: Number of bytes read=811058760\n",
      "\t\tFILE: Number of bytes written=1217303795\n",
      "\t\tFILE: Number of read operations=0\n",
      "\t\tFILE: Number of large read operations=0\n",
      "\t\tFILE: Number of write operations=0\n",
      "\t\tHDFS: Number of bytes read=5371396\n",
      "\t\tHDFS: Number of bytes written=314132\n",
      "\t\tHDFS: Number of read operations=11\n",
      "\t\tHDFS: Number of large read operations=0\n",
      "\t\tHDFS: Number of write operations=2\n",
      "\t\tHDFS: Number of bytes read erasure-coded=0\n",
      "\tJob Counters \n",
      "\t\tLaunched map tasks=2\n",
      "\t\tLaunched reduce tasks=1\n",
      "\t\tData-local map tasks=2\n",
      "\t\tTotal time spent by all maps in occupied slots (ms)=152193\n",
      "\t\tTotal time spent by all reduces in occupied slots (ms)=32862\n",
      "\t\tTotal time spent by all map tasks (ms)=152193\n",
      "\t\tTotal time spent by all reduce tasks (ms)=32862\n",
      "\t\tTotal vcore-milliseconds taken by all map tasks=152193\n",
      "\t\tTotal vcore-milliseconds taken by all reduce tasks=32862\n",
      "\t\tTotal megabyte-milliseconds taken by all map tasks=155845632\n",
      "\t\tTotal megabyte-milliseconds taken by all reduce tasks=33650688\n",
      "\tMap-Reduce Framework\n",
      "\t\tMap input records=90941\n",
      "\t\tMap output records=14970837\n",
      "\t\tMap output bytes=375587676\n",
      "\t\tMap output materialized bytes=405529362\n",
      "\t\tInput split bytes=176\n",
      "\t\tCombine input records=0\n",
      "\t\tCombine output records=0\n",
      "\t\tReduce input groups=2538771\n",
      "\t\tReduce shuffle bytes=405529362\n",
      "\t\tReduce input records=14970837\n",
      "\t\tReduce output records=5172\n",
      "\t\tSpilled Records=44912511\n",
      "\t\tShuffled Maps =2\n",
      "\t\tFailed Shuffles=0\n",
      "\t\tMerged Map outputs=2\n",
      "\t\tGC time elapsed (ms)=805\n",
      "\t\tCPU time spent (ms)=145210\n",
      "\t\tPhysical memory (bytes) snapshot=1204543488\n",
      "\t\tVirtual memory (bytes) snapshot=7689785344\n",
      "\t\tTotal committed heap usage (bytes)=932708352\n",
      "\t\tPeak Map Physical memory (bytes)=508043264\n",
      "\t\tPeak Map Virtual memory (bytes)=2571395072\n",
      "\t\tPeak Reduce Physical memory (bytes)=232771584\n",
      "\t\tPeak Reduce Virtual memory (bytes)=2573303808\n",
      "\tShuffle Errors\n",
      "\t\tBAD_ID=0\n",
      "\t\tCONNECTION=0\n",
      "\t\tIO_ERROR=0\n",
      "\t\tWRONG_LENGTH=0\n",
      "\t\tWRONG_MAP=0\n",
      "\t\tWRONG_REDUCE=0\n",
      "\tFile Input Format Counters \n",
      "\t\tBytes Read=5371220\n",
      "\tFile Output Format Counters \n",
      "\t\tBytes Written=314132\n",
      "2021-06-29 22:47:08,670 INFO streaming.StreamJob: Output directory: apriori_model_3\n"
     ]
    }
   ],
   "source": [
    "# If output folder already exists, delete it\n",
    "!hdfs dfs -rm -r apriori_model_3\n",
    "\n",
    "# Run job\n",
    "!hadoop jar /home/abhishek/Downloads/hadoop-streaming-3.2.2.jar \\\n",
    "-D mapred.output.key.comparator.class=org.apache.hadoop.mapred.lib.KeyFieldBasedComparator \\\n",
    "-D mapred.text.key.partitioner.options=-k1 \\\n",
    "-D stream.num.map.output.key.fields=3 \\\n",
    "-D mapred.text.key.comparator.options='-k1 -k2 -k3' \\\n",
    "-D mapred.reduce.tasks=1 \\\n",
    "-mapper '/home/hduser/MapReduce/src/apriori_mapper.py 3' \\\n",
    "-reducer '/home/hduser/MapReduce/src/apriori_reducer.py 100' \\\n",
    "-file apriori_model_2.txt \\\n",
    "-input /Data/file0.txt* \\\n",
    "-output apriori_model_3"
   ]
  },
  {
   "cell_type": "code",
   "execution_count": 206,
   "metadata": {},
   "outputs": [
    {
     "name": "stdout",
     "output_type": "stream",
     "text": [
      "2021-06-29 22:47:24,967 WARN util.NativeCodeLoader: Unable to load native-hadoop library for your platform... using builtin-java classes where applicable\r\n"
     ]
    }
   ],
   "source": [
    "!hdfs dfs -cat apriori_model_2/part-00000* > /home/hduser/MapReduce/Results/apriori_with_2attributes.txt"
   ]
  },
  {
   "cell_type": "code",
   "execution_count": 208,
   "metadata": {},
   "outputs": [
    {
     "name": "stdout",
     "output_type": "stream",
     "text": [
      "2021-06-29 22:47:42,825 WARN util.NativeCodeLoader: Unable to load native-hadoop library for your platform... using builtin-java classes where applicable\r\n"
     ]
    }
   ],
   "source": [
    "!hdfs dfs -cat apriori_model_3/part-00000* > /home/hduser/MapReduce/Results/apriori_with_3attributes.txt"
   ]
  },
  {
   "cell_type": "markdown",
   "metadata": {},
   "source": [
    "### Two variables"
   ]
  },
  {
   "cell_type": "code",
   "execution_count": 209,
   "metadata": {},
   "outputs": [
    {
     "data": {
      "text/html": [
       "<div>\n",
       "<style scoped>\n",
       "    .dataframe tbody tr th:only-of-type {\n",
       "        vertical-align: middle;\n",
       "    }\n",
       "\n",
       "    .dataframe tbody tr th {\n",
       "        vertical-align: top;\n",
       "    }\n",
       "\n",
       "    .dataframe thead th {\n",
       "        text-align: right;\n",
       "    }\n",
       "</style>\n",
       "<table border=\"1\" class=\"dataframe\">\n",
       "  <thead>\n",
       "    <tr style=\"text-align: right;\">\n",
       "      <th></th>\n",
       "      <th>variable1</th>\n",
       "      <th>variable2</th>\n",
       "      <th>Count</th>\n",
       "      <th>Confidence1</th>\n",
       "      <th>Confidence2</th>\n",
       "    </tr>\n",
       "  </thead>\n",
       "  <tbody>\n",
       "    <tr>\n",
       "      <th>5221</th>\n",
       "      <td>st_DUDLEY_ST</td>\n",
       "      <td>di_B2</td>\n",
       "      <td>720</td>\n",
       "      <td>0.007917</td>\n",
       "      <td>1.0</td>\n",
       "    </tr>\n",
       "    <tr>\n",
       "      <th>4776</th>\n",
       "      <td>ra_329</td>\n",
       "      <td>di_B2</td>\n",
       "      <td>581</td>\n",
       "      <td>0.006389</td>\n",
       "      <td>1.0</td>\n",
       "    </tr>\n",
       "    <tr>\n",
       "      <th>4930</th>\n",
       "      <td>ra_624</td>\n",
       "      <td>di_D4</td>\n",
       "      <td>541</td>\n",
       "      <td>0.005949</td>\n",
       "      <td>1.0</td>\n",
       "    </tr>\n",
       "    <tr>\n",
       "      <th>4640</th>\n",
       "      <td>ra_143</td>\n",
       "      <td>di_D4</td>\n",
       "      <td>523</td>\n",
       "      <td>0.005751</td>\n",
       "      <td>1.0</td>\n",
       "    </tr>\n",
       "    <tr>\n",
       "      <th>4869</th>\n",
       "      <td>ra_465</td>\n",
       "      <td>di_B3</td>\n",
       "      <td>495</td>\n",
       "      <td>0.005443</td>\n",
       "      <td>1.0</td>\n",
       "    </tr>\n",
       "    <tr>\n",
       "      <th>...</th>\n",
       "      <td>...</td>\n",
       "      <td>...</td>\n",
       "      <td>...</td>\n",
       "      <td>...</td>\n",
       "      <td>...</td>\n",
       "    </tr>\n",
       "    <tr>\n",
       "      <th>4916</th>\n",
       "      <td>ra_594</td>\n",
       "      <td>di_D4</td>\n",
       "      <td>101</td>\n",
       "      <td>0.001111</td>\n",
       "      <td>1.0</td>\n",
       "    </tr>\n",
       "    <tr>\n",
       "      <th>4917</th>\n",
       "      <td>ra_602</td>\n",
       "      <td>di_B2</td>\n",
       "      <td>101</td>\n",
       "      <td>0.001111</td>\n",
       "      <td>1.0</td>\n",
       "    </tr>\n",
       "    <tr>\n",
       "      <th>5232</th>\n",
       "      <td>st_E_FOURTH_ST</td>\n",
       "      <td>di_C6</td>\n",
       "      <td>101</td>\n",
       "      <td>0.001111</td>\n",
       "      <td>1.0</td>\n",
       "    </tr>\n",
       "    <tr>\n",
       "      <th>4620</th>\n",
       "      <td>ra_125</td>\n",
       "      <td>di_A1</td>\n",
       "      <td>100</td>\n",
       "      <td>0.001100</td>\n",
       "      <td>1.0</td>\n",
       "    </tr>\n",
       "    <tr>\n",
       "      <th>5314</th>\n",
       "      <td>st_MARKET_ST</td>\n",
       "      <td>di_D14</td>\n",
       "      <td>100</td>\n",
       "      <td>0.001100</td>\n",
       "      <td>1.0</td>\n",
       "    </tr>\n",
       "  </tbody>\n",
       "</table>\n",
       "<p>300 rows × 5 columns</p>\n",
       "</div>"
      ],
      "text/plain": [
       "           variable1 variable2  Count  Confidence1  Confidence2\n",
       "5221    st_DUDLEY_ST     di_B2    720     0.007917          1.0\n",
       "4776          ra_329     di_B2    581     0.006389          1.0\n",
       "4930          ra_624     di_D4    541     0.005949          1.0\n",
       "4640          ra_143     di_D4    523     0.005751          1.0\n",
       "4869          ra_465     di_B3    495     0.005443          1.0\n",
       "...              ...       ...    ...          ...          ...\n",
       "4916          ra_594     di_D4    101     0.001111          1.0\n",
       "4917          ra_602     di_B2    101     0.001111          1.0\n",
       "5232  st_E_FOURTH_ST     di_C6    101     0.001111          1.0\n",
       "4620          ra_125     di_A1    100     0.001100          1.0\n",
       "5314    st_MARKET_ST    di_D14    100     0.001100          1.0\n",
       "\n",
       "[300 rows x 5 columns]"
      ]
     },
     "execution_count": 209,
     "metadata": {},
     "output_type": "execute_result"
    }
   ],
   "source": [
    "df_ap2 = pd.read_csv('./Results/apriori_with_2attributes.txt',sep='\t', engine='python',names=['variable1','variable2','Count','Confidence1','Confidence2'])\n",
    "df_ap2 = df_ap2.loc[df_ap2.Confidence2 == 1]\n",
    "df_ap2.sort_values('Count',ascending=False)"
   ]
  },
  {
   "cell_type": "markdown",
   "metadata": {},
   "source": [
    "### Three variables"
   ]
  },
  {
   "cell_type": "code",
   "execution_count": 229,
   "metadata": {},
   "outputs": [
    {
     "data": {
      "text/html": [
       "<div>\n",
       "<style scoped>\n",
       "    .dataframe tbody tr th:only-of-type {\n",
       "        vertical-align: middle;\n",
       "    }\n",
       "\n",
       "    .dataframe tbody tr th {\n",
       "        vertical-align: top;\n",
       "    }\n",
       "\n",
       "    .dataframe thead th {\n",
       "        text-align: right;\n",
       "    }\n",
       "</style>\n",
       "<table border=\"1\" class=\"dataframe\">\n",
       "  <thead>\n",
       "    <tr style=\"text-align: right;\">\n",
       "      <th></th>\n",
       "      <th>variable1</th>\n",
       "      <th>variable2</th>\n",
       "      <th>variable3</th>\n",
       "      <th>Count</th>\n",
       "      <th>Confidence2</th>\n",
       "    </tr>\n",
       "  </thead>\n",
       "  <tbody>\n",
       "    <tr>\n",
       "      <th>4664</th>\n",
       "      <td>ra_143</td>\n",
       "      <td>st_BOYLSTON_ST</td>\n",
       "      <td>di_D4</td>\n",
       "      <td>365</td>\n",
       "      <td>1.0</td>\n",
       "    </tr>\n",
       "    <tr>\n",
       "      <th>4936</th>\n",
       "      <td>st_BOYLSTON_ST</td>\n",
       "      <td>ra_143</td>\n",
       "      <td>di_D4</td>\n",
       "      <td>365</td>\n",
       "      <td>1.0</td>\n",
       "    </tr>\n",
       "    <tr>\n",
       "      <th>5066</th>\n",
       "      <td>st_HYDE_PARK_AVE</td>\n",
       "      <td>ra_520</td>\n",
       "      <td>di_E18</td>\n",
       "      <td>341</td>\n",
       "      <td>1.0</td>\n",
       "    </tr>\n",
       "    <tr>\n",
       "      <th>4754</th>\n",
       "      <td>ra_520</td>\n",
       "      <td>st_HYDE_PARK_AVE</td>\n",
       "      <td>di_E18</td>\n",
       "      <td>341</td>\n",
       "      <td>1.0</td>\n",
       "    </tr>\n",
       "    <tr>\n",
       "      <th>4745</th>\n",
       "      <td>ra_465</td>\n",
       "      <td>st_BLUE_HILL_AVE</td>\n",
       "      <td>di_B3</td>\n",
       "      <td>299</td>\n",
       "      <td>1.0</td>\n",
       "    </tr>\n",
       "    <tr>\n",
       "      <th>...</th>\n",
       "      <td>...</td>\n",
       "      <td>...</td>\n",
       "      <td>...</td>\n",
       "      <td>...</td>\n",
       "      <td>...</td>\n",
       "    </tr>\n",
       "    <tr>\n",
       "      <th>4669</th>\n",
       "      <td>ra_168</td>\n",
       "      <td>st_WASHINGTON_ST</td>\n",
       "      <td>di_D4</td>\n",
       "      <td>102</td>\n",
       "      <td>1.0</td>\n",
       "    </tr>\n",
       "    <tr>\n",
       "      <th>4463</th>\n",
       "      <td>of_3114</td>\n",
       "      <td>ra_520</td>\n",
       "      <td>di_E18</td>\n",
       "      <td>101</td>\n",
       "      <td>1.0</td>\n",
       "    </tr>\n",
       "    <tr>\n",
       "      <th>4752</th>\n",
       "      <td>ra_520</td>\n",
       "      <td>of_3114</td>\n",
       "      <td>di_E18</td>\n",
       "      <td>101</td>\n",
       "      <td>1.0</td>\n",
       "    </tr>\n",
       "    <tr>\n",
       "      <th>4719</th>\n",
       "      <td>ra_329</td>\n",
       "      <td>st_DEVON_ST</td>\n",
       "      <td>di_B2</td>\n",
       "      <td>101</td>\n",
       "      <td>1.0</td>\n",
       "    </tr>\n",
       "    <tr>\n",
       "      <th>4971</th>\n",
       "      <td>st_DEVON_ST</td>\n",
       "      <td>ra_329</td>\n",
       "      <td>di_B2</td>\n",
       "      <td>101</td>\n",
       "      <td>1.0</td>\n",
       "    </tr>\n",
       "  </tbody>\n",
       "</table>\n",
       "<p>174 rows × 5 columns</p>\n",
       "</div>"
      ],
      "text/plain": [
       "             variable1         variable2 variable3  Count  Confidence2\n",
       "4664            ra_143    st_BOYLSTON_ST     di_D4    365          1.0\n",
       "4936    st_BOYLSTON_ST            ra_143     di_D4    365          1.0\n",
       "5066  st_HYDE_PARK_AVE            ra_520    di_E18    341          1.0\n",
       "4754            ra_520  st_HYDE_PARK_AVE    di_E18    341          1.0\n",
       "4745            ra_465  st_BLUE_HILL_AVE     di_B3    299          1.0\n",
       "...                ...               ...       ...    ...          ...\n",
       "4669            ra_168  st_WASHINGTON_ST     di_D4    102          1.0\n",
       "4463           of_3114            ra_520    di_E18    101          1.0\n",
       "4752            ra_520           of_3114    di_E18    101          1.0\n",
       "4719            ra_329       st_DEVON_ST     di_B2    101          1.0\n",
       "4971       st_DEVON_ST            ra_329     di_B2    101          1.0\n",
       "\n",
       "[174 rows x 5 columns]"
      ]
     },
     "execution_count": 229,
     "metadata": {},
     "output_type": "execute_result"
    }
   ],
   "source": [
    "#Read the count MapReduce\n",
    "df_ap3 = pd.read_csv('./Results/apriori_with_3attributes.txt',sep='\t', engine='python',names=['variable1','variable2','variable3','Count','Confidence1','Confidence2'])\n",
    "df_ap3=df_ap3.drop('Confidence1',axis=1)\n",
    "df_ap3 = df_ap3.loc[df_ap3.Confidence2 == 1]\n",
    "df_ap3.sort_values('Count',ascending=False)"
   ]
  },
  {
   "cell_type": "markdown",
   "metadata": {},
   "source": [
    "# Analysis"
   ]
  },
  {
   "cell_type": "code",
   "execution_count": 223,
   "metadata": {},
   "outputs": [
    {
     "data": {
      "text/html": [
       "<div>\n",
       "<style scoped>\n",
       "    .dataframe tbody tr th:only-of-type {\n",
       "        vertical-align: middle;\n",
       "    }\n",
       "\n",
       "    .dataframe tbody tr th {\n",
       "        vertical-align: top;\n",
       "    }\n",
       "\n",
       "    .dataframe thead th {\n",
       "        text-align: right;\n",
       "    }\n",
       "</style>\n",
       "<table border=\"1\" class=\"dataframe\">\n",
       "  <thead>\n",
       "    <tr style=\"text-align: right;\">\n",
       "      <th></th>\n",
       "      <th>OFFENSE_CODE</th>\n",
       "      <th>DISTRICT</th>\n",
       "      <th>REPORTING_AREA</th>\n",
       "      <th>MONTH</th>\n",
       "      <th>DAY_OF_WEEK</th>\n",
       "      <th>HOUR</th>\n",
       "      <th>STREET</th>\n",
       "    </tr>\n",
       "  </thead>\n",
       "  <tbody>\n",
       "    <tr>\n",
       "      <th>0</th>\n",
       "      <td>of_3125</td>\n",
       "      <td>di_A7</td>\n",
       "      <td>ra_465</td>\n",
       "      <td>m_Nov</td>\n",
       "      <td>dw_Friday</td>\n",
       "      <td>hr_20</td>\n",
       "      <td>st_HARBORSIDE_DR</td>\n",
       "    </tr>\n",
       "    <tr>\n",
       "      <th>1</th>\n",
       "      <td>of_1107</td>\n",
       "      <td>di_A1</td>\n",
       "      <td>ra_77</td>\n",
       "      <td>m_Dec</td>\n",
       "      <td>dw_Sunday</td>\n",
       "      <td>hr_0</td>\n",
       "      <td>st_NASSAU_ST</td>\n",
       "    </tr>\n",
       "    <tr>\n",
       "      <th>2</th>\n",
       "      <td>of_1107</td>\n",
       "      <td>di_C11</td>\n",
       "      <td>ra_355</td>\n",
       "      <td>m_Dec</td>\n",
       "      <td>dw_Tuesday</td>\n",
       "      <td>hr_0</td>\n",
       "      <td>st_LINDSEY_ST</td>\n",
       "    </tr>\n",
       "    <tr>\n",
       "      <th>4</th>\n",
       "      <td>of_1102</td>\n",
       "      <td>di_C11</td>\n",
       "      <td>ra_355</td>\n",
       "      <td>m_Oct</td>\n",
       "      <td>dw_Wednesday</td>\n",
       "      <td>hr_8</td>\n",
       "      <td>st_ADAMS_ST</td>\n",
       "    </tr>\n",
       "    <tr>\n",
       "      <th>5</th>\n",
       "      <td>of_735</td>\n",
       "      <td>di_External</td>\n",
       "      <td>ra_178</td>\n",
       "      <td>m_Oct</td>\n",
       "      <td>dw_Saturday</td>\n",
       "      <td>hr_0</td>\n",
       "      <td>st_METROPOLITAN_AVE</td>\n",
       "    </tr>\n",
       "  </tbody>\n",
       "</table>\n",
       "</div>"
      ],
      "text/plain": [
       "  OFFENSE_CODE     DISTRICT REPORTING_AREA  MONTH   DAY_OF_WEEK   HOUR  \\\n",
       "0      of_3125        di_A7         ra_465  m_Nov     dw_Friday  hr_20   \n",
       "1      of_1107        di_A1          ra_77  m_Dec     dw_Sunday   hr_0   \n",
       "2      of_1107       di_C11         ra_355  m_Dec    dw_Tuesday   hr_0   \n",
       "4      of_1102       di_C11         ra_355  m_Oct  dw_Wednesday   hr_8   \n",
       "5       of_735  di_External         ra_178  m_Oct   dw_Saturday   hr_0   \n",
       "\n",
       "                STREET  \n",
       "0     st_HARBORSIDE_DR  \n",
       "1         st_NASSAU_ST  \n",
       "2        st_LINDSEY_ST  \n",
       "4          st_ADAMS_ST  \n",
       "5  st_METROPOLITAN_AVE  "
      ]
     },
     "execution_count": 223,
     "metadata": {},
     "output_type": "execute_result"
    }
   ],
   "source": [
    "df.head()"
   ]
  },
  {
   "cell_type": "code",
   "execution_count": 366,
   "metadata": {},
   "outputs": [],
   "source": [
    "df_of=df_ap3[df_ap3.variable1.str.startswith(tuple('of'))]\n",
    "df_of= df_of.sort_values('Count',ascending=False)\n",
    "df_dw=df_ap3[df_ap3.variable2.str.startswith(tuple('dw'))]\n",
    "df_dw= df_dw.sort_values('Count',ascending=False)\n",
    "df_dx=df_ap3[df_ap3.variable3.str.startswith(tuple('st'))]\n",
    "df_dx= df_dx.sort_values('Count',ascending=False)"
   ]
  },
  {
   "cell_type": "code",
   "execution_count": 367,
   "metadata": {
    "scrolled": true
   },
   "outputs": [
    {
     "data": {
      "text/html": [
       "<div>\n",
       "<style scoped>\n",
       "    .dataframe tbody tr th:only-of-type {\n",
       "        vertical-align: middle;\n",
       "    }\n",
       "\n",
       "    .dataframe tbody tr th {\n",
       "        vertical-align: top;\n",
       "    }\n",
       "\n",
       "    .dataframe thead th {\n",
       "        text-align: right;\n",
       "    }\n",
       "</style>\n",
       "<table border=\"1\" class=\"dataframe\">\n",
       "  <thead>\n",
       "    <tr style=\"text-align: right;\">\n",
       "      <th></th>\n",
       "      <th>variable1</th>\n",
       "      <th>variable2</th>\n",
       "      <th>variable3</th>\n",
       "      <th>Count</th>\n",
       "      <th>Confidence2</th>\n",
       "    </tr>\n",
       "  </thead>\n",
       "  <tbody>\n",
       "    <tr>\n",
       "      <th>4580</th>\n",
       "      <td>of_613</td>\n",
       "      <td>ra_134</td>\n",
       "      <td>di_D4</td>\n",
       "      <td>145</td>\n",
       "      <td>1.0</td>\n",
       "    </tr>\n",
       "    <tr>\n",
       "      <th>4582</th>\n",
       "      <td>of_613</td>\n",
       "      <td>ra_143</td>\n",
       "      <td>di_D4</td>\n",
       "      <td>141</td>\n",
       "      <td>1.0</td>\n",
       "    </tr>\n",
       "    <tr>\n",
       "      <th>4584</th>\n",
       "      <td>of_613</td>\n",
       "      <td>ra_94</td>\n",
       "      <td>di_A1</td>\n",
       "      <td>129</td>\n",
       "      <td>1.0</td>\n",
       "    </tr>\n",
       "    <tr>\n",
       "      <th>4465</th>\n",
       "      <td>of_3114</td>\n",
       "      <td>ra_61</td>\n",
       "      <td>di_A1</td>\n",
       "      <td>128</td>\n",
       "      <td>1.0</td>\n",
       "    </tr>\n",
       "    <tr>\n",
       "      <th>4581</th>\n",
       "      <td>of_613</td>\n",
       "      <td>ra_138</td>\n",
       "      <td>di_D4</td>\n",
       "      <td>113</td>\n",
       "      <td>1.0</td>\n",
       "    </tr>\n",
       "    <tr>\n",
       "      <th>4587</th>\n",
       "      <td>of_613</td>\n",
       "      <td>st_FANEUIL_HALL_MARKETPLACE</td>\n",
       "      <td>di_A1</td>\n",
       "      <td>105</td>\n",
       "      <td>1.0</td>\n",
       "    </tr>\n",
       "    <tr>\n",
       "      <th>4463</th>\n",
       "      <td>of_3114</td>\n",
       "      <td>ra_520</td>\n",
       "      <td>di_E18</td>\n",
       "      <td>101</td>\n",
       "      <td>1.0</td>\n",
       "    </tr>\n",
       "  </tbody>\n",
       "</table>\n",
       "</div>"
      ],
      "text/plain": [
       "     variable1                    variable2 variable3  Count  Confidence2\n",
       "4580    of_613                       ra_134     di_D4    145          1.0\n",
       "4582    of_613                       ra_143     di_D4    141          1.0\n",
       "4584    of_613                        ra_94     di_A1    129          1.0\n",
       "4465   of_3114                        ra_61     di_A1    128          1.0\n",
       "4581    of_613                       ra_138     di_D4    113          1.0\n",
       "4587    of_613  st_FANEUIL_HALL_MARKETPLACE     di_A1    105          1.0\n",
       "4463   of_3114                       ra_520    di_E18    101          1.0"
      ]
     },
     "execution_count": 367,
     "metadata": {},
     "output_type": "execute_result"
    }
   ],
   "source": [
    "df_of"
   ]
  },
  {
   "cell_type": "code",
   "execution_count": 368,
   "metadata": {},
   "outputs": [
    {
     "data": {
      "text/plain": [
       "variable1  variable2                    variable3  Count  Confidence2\n",
       "of_3114    ra_520                       di_E18     101    1.0            1\n",
       "           ra_61                        di_A1      128    1.0            1\n",
       "of_613     ra_134                       di_D4      145    1.0            1\n",
       "           ra_138                       di_D4      113    1.0            1\n",
       "           ra_143                       di_D4      141    1.0            1\n",
       "           ra_94                        di_A1      129    1.0            1\n",
       "           st_FANEUIL_HALL_MARKETPLACE  di_A1      105    1.0            1\n",
       "dtype: int64"
      ]
     },
     "execution_count": 368,
     "metadata": {},
     "output_type": "execute_result"
    }
   ],
   "source": [
    "df_of.value_counts()"
   ]
  },
  {
   "cell_type": "code",
   "execution_count": 369,
   "metadata": {},
   "outputs": [
    {
     "data": {
      "text/plain": [
       "variable1          variable2     variable3       Count  Confidence2\n",
       "ra_111             dw_Friday     di_A1           105    1.0            1\n",
       "ra_186             di_B2         st_ALLSTATE_RD  103    1.0            1\n",
       "ra_691             di_B2         st_CENTRE_ST    130    1.0            1\n",
       "st_ALLSTATE_RD     di_B2         ra_186          103    1.0            1\n",
       "                   di_E5         ra_713          160    1.0            1\n",
       "st_DUDLEY_ST       dw_Friday     di_B2           111    1.0            1\n",
       "                   dw_Monday     di_B2           120    1.0            1\n",
       "                   dw_Tuesday    di_B2           103    1.0            1\n",
       "                   dw_Wednesday  di_B2           107    1.0            1\n",
       "st_GREENVILLE_ST   di_C11        ra_345          145    1.0            1\n",
       "st_HARRISON_AVE    di_C11        ra_395          132    1.0            1\n",
       "st_HUNTINGTON_AVE  di_C6         ra_179          125    1.0            1\n",
       "st_LEGENDS_WAY     di_A1         ra_61           179    1.0            1\n",
       "st_NEWBURY_ST      dw_Wednesday  di_D4           102    1.0            1\n",
       "st_NEW_SUDBURY_ST  di_B2         ra_282          162    1.0            1\n",
       "st_WESTLAND_AVE    di_D4         ra_619          113    1.0            1\n",
       "dtype: int64"
      ]
     },
     "execution_count": 369,
     "metadata": {},
     "output_type": "execute_result"
    }
   ],
   "source": [
    "df_dw.value_counts()"
   ]
  },
  {
   "cell_type": "code",
   "execution_count": 370,
   "metadata": {},
   "outputs": [
    {
     "data": {
      "text/plain": [
       "variable1  variable2  variable3       Count  Confidence2\n",
       "di_B2      ra_186     st_ALLSTATE_RD  103    1.0            1\n",
       "           ra_691     st_CENTRE_ST    130    1.0            1\n",
       "ra_186     di_B2      st_ALLSTATE_RD  103    1.0            1\n",
       "ra_691     di_B2      st_CENTRE_ST    130    1.0            1\n",
       "dtype: int64"
      ]
     },
     "execution_count": 370,
     "metadata": {},
     "output_type": "execute_result"
    }
   ],
   "source": [
    "df_dx.value_counts()"
   ]
  },
  {
   "cell_type": "markdown",
   "metadata": {},
   "source": [
    "# Results \n",
    "* **of_613** i.e. LARCENY SHOPLIFTING is very common on **District D4 and A1**\n",
    "* **District B3** has most cases from **Street ALLSTATE_RD and CENTRE_ST**\n",
    "* **Street DUDLEY_ST** has most reported cases on **Friday Tuesday Wednesday**"
   ]
  }
 ],
 "metadata": {
  "kernelspec": {
   "display_name": "Python 3",
   "language": "python",
   "name": "python3"
  },
  "language_info": {
   "codemirror_mode": {
    "name": "ipython",
    "version": 3
   },
   "file_extension": ".py",
   "mimetype": "text/x-python",
   "name": "python",
   "nbconvert_exporter": "python",
   "pygments_lexer": "ipython3",
   "version": "3.8.5"
  }
 },
 "nbformat": 4,
 "nbformat_minor": 4
}
